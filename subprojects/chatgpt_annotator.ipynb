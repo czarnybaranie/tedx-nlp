{
 "cells": [
  {
   "cell_type": "code",
   "execution_count": 6,
   "metadata": {},
   "outputs": [],
   "source": [
    "# Importing the necessary libraries\n",
    "import csv\n",
    "import json\n",
    "import openai\n",
    "import pandas as pd\n",
    "\n",
    "# Importing the dataset\n",
    "df = pd.read_csv('../tedx-dataset/tags_export.csv')\n",
    "titles = df['title']\n",
    "tags = df['tag']"
   ]
  },
  {
   "cell_type": "code",
   "execution_count": 7,
   "metadata": {},
   "outputs": [
    {
     "data": {
      "text/html": [
       "<div>\n",
       "<style scoped>\n",
       "    .dataframe tbody tr th:only-of-type {\n",
       "        vertical-align: middle;\n",
       "    }\n",
       "\n",
       "    .dataframe tbody tr th {\n",
       "        vertical-align: top;\n",
       "    }\n",
       "\n",
       "    .dataframe thead th {\n",
       "        text-align: right;\n",
       "    }\n",
       "</style>\n",
       "<table border=\"1\" class=\"dataframe\">\n",
       "  <thead>\n",
       "    <tr style=\"text-align: right;\">\n",
       "      <th></th>\n",
       "      <th>title</th>\n",
       "      <th>tag</th>\n",
       "    </tr>\n",
       "  </thead>\n",
       "  <tbody>\n",
       "    <tr>\n",
       "      <th>0</th>\n",
       "      <td>How do gas masks actually work?</td>\n",
       "      <td>environment, technology, design, education, na...</td>\n",
       "    </tr>\n",
       "    <tr>\n",
       "      <th>1</th>\n",
       "      <td>My epic journey becoming the fastest person to...</td>\n",
       "      <td>sports, motivation, personal growth, humanity</td>\n",
       "    </tr>\n",
       "    <tr>\n",
       "      <th>2</th>\n",
       "      <td>How AI is unlocking the secrets of nature and ...</td>\n",
       "      <td>science, technology, innovation, future, AI, h...</td>\n",
       "    </tr>\n",
       "    <tr>\n",
       "      <th>3</th>\n",
       "      <td>An updated action plan for solving the climate...</td>\n",
       "      <td>climate change, environment, sustainability, s...</td>\n",
       "    </tr>\n",
       "    <tr>\n",
       "      <th>4</th>\n",
       "      <td>The secret ingredient of business success</td>\n",
       "      <td>business, social change, community, leadership...</td>\n",
       "    </tr>\n",
       "    <tr>\n",
       "      <th>...</th>\n",
       "      <td>...</td>\n",
       "      <td>...</td>\n",
       "    </tr>\n",
       "    <tr>\n",
       "      <th>6407</th>\n",
       "      <td>The best stats you've ever seen</td>\n",
       "      <td>global issues, economics, health, Africa, stat...</td>\n",
       "    </tr>\n",
       "    <tr>\n",
       "      <th>6408</th>\n",
       "      <td>Do schools kill creativity?</td>\n",
       "      <td>culture, education, creativity, dance, parenti...</td>\n",
       "    </tr>\n",
       "    <tr>\n",
       "      <th>6409</th>\n",
       "      <td>Greening the ghetto</td>\n",
       "      <td>environment, politics, sustainability, busines...</td>\n",
       "    </tr>\n",
       "    <tr>\n",
       "      <th>6410</th>\n",
       "      <td>Simplicity sells</td>\n",
       "      <td>technology, computers, entertainment, media, m...</td>\n",
       "    </tr>\n",
       "    <tr>\n",
       "      <th>6411</th>\n",
       "      <td>Averting the climate crisis</td>\n",
       "      <td>climate change, culture, environment, global i...</td>\n",
       "    </tr>\n",
       "  </tbody>\n",
       "</table>\n",
       "<p>6412 rows × 2 columns</p>\n",
       "</div>"
      ],
      "text/plain": [
       "                                                  title  \\\n",
       "0                       How do gas masks actually work?   \n",
       "1     My epic journey becoming the fastest person to...   \n",
       "2     How AI is unlocking the secrets of nature and ...   \n",
       "3     An updated action plan for solving the climate...   \n",
       "4             The secret ingredient of business success   \n",
       "...                                                 ...   \n",
       "6407                    The best stats you've ever seen   \n",
       "6408                        Do schools kill creativity?   \n",
       "6409                                Greening the ghetto   \n",
       "6410                                   Simplicity sells   \n",
       "6411                        Averting the climate crisis   \n",
       "\n",
       "                                                    tag  \n",
       "0     environment, technology, design, education, na...  \n",
       "1         sports, motivation, personal growth, humanity  \n",
       "2     science, technology, innovation, future, AI, h...  \n",
       "3     climate change, environment, sustainability, s...  \n",
       "4     business, social change, community, leadership...  \n",
       "...                                                 ...  \n",
       "6407  global issues, economics, health, Africa, stat...  \n",
       "6408  culture, education, creativity, dance, parenti...  \n",
       "6409  environment, politics, sustainability, busines...  \n",
       "6410  technology, computers, entertainment, media, m...  \n",
       "6411  climate change, culture, environment, global i...  \n",
       "\n",
       "[6412 rows x 2 columns]"
      ]
     },
     "execution_count": 7,
     "metadata": {},
     "output_type": "execute_result"
    }
   ],
   "source": [
    "df"
   ]
  },
  {
   "cell_type": "code",
   "execution_count": 9,
   "metadata": {},
   "outputs": [],
   "source": [
    "import json\n",
    "OPENAI_KEY = # path to your openai key"
   ]
  },
  {
   "cell_type": "code",
   "execution_count": 24,
   "metadata": {},
   "outputs": [],
   "source": [
    "# Defining prompts and labels\n",
    "from pydantic import BaseModel\n",
    "\n",
    "class OutputFormat(BaseModel):\n",
    "    best_tag: str\n",
    "    sentiment: str\n",
    "\n",
    "# Creating OpenAI client\n",
    "client = openai.OpenAI(api_key=OPENAI_KEY)\n",
    "# Creating a request function\n",
    "def request(df,number):\n",
    "    # Prompt 1 (Zero-Shot)\n",
    "    prompt1 = \"\"\"Below you can find the title of a speech from a TEDx event.\n",
    "\n",
    "    1) Tag\n",
    "    * Choose a tag from a list of possible tags that best describes the topic of the speech. Try to pick quite a general tag that could be applied to a wide range of speeches.\n",
    "\n",
    "    2) Sentiment\n",
    "    * Assess the possible sentiment of this speech based on the title. Choose one label from the options provided. Take into account the provided sentiment explanations to guide your decision.\n",
    "\n",
    "    Examples:\n",
    "    * \"How to prevent political corruption\" {'tag': 'politics', 'sentiment': 'Positive'}\n",
    "    * \"The art of persuasive storytelling\" {'tag': 'communication', 'sentiment': 'Neutral'}\n",
    "    * \"What's the point of digital fashion?\" {'tag': 'sustainability', 'sentiment': 'Negative'}\n",
    "    \"\"\"\n",
    "\n",
    "\n",
    "    prompt2 = f\"\"\"Title: {df['title'][number]}.\n",
    "    Tags: {df['tag'][number]}.\n",
    "    Sentiment labels: 'Positive, Negative, Neutral'\n",
    "    Sentiment explanations: \n",
    "    1. Positive: Includes titles that convey optimism, inspiration, motivation, or hope. This category combines elements of positivity and inspiration, offering insight into titles that aim to motivate or uplift.\n",
    "    2. Negative: Encompasses titles that communicate pessimism, criticism, anxiety, or difficult emotions. This category can serve as an indicator of titles that address challenging topics or evoke negative emotions.\n",
    "    3. Neutral: Covers titles that are informational, educational, or factual in nature, with a neutral emotional tone. This category is useful for identifying titles that focus primarily on conveying knowledge without a strong emotional charge.\n",
    "    \"\"\"\n",
    "    # 1. **Pozytywny/Inspirowany**: Obejmuje tytuły, które wyrażają optymizm, inspirację, motywację lub nadzieję. Ta kategoria łączy elementy pozytywności i inspiracji, dając wgląd w tytuły, które starają się motywować lub podnieść na duchu.\n",
    "    # 2. **Negatywny/Krytyczny**: Zawiera tytuły, które przekazują pesymizm, krytykę, niepokój lub trudne emocje. Ta klasa może służyć jako wskaźnik tytułów, które poruszają trudne tematy lub wywołują negatywne emocje.\n",
    "    # 3. **Neutralny/Edukacyjny**: Obejmuje tytuły o charakterze informacyjnym, edukacyjnym lub faktualnym, które mają neutralny ton emocjonalny. Ta klasa jest przydatna do identyfikacji tytułów, które koncentrują się głównie na przekazywaniu wiedzy bez wyraźnego ładunku emocjonalnego.\n",
    "\n",
    "    completion = client.beta.chat.completions.parse(\n",
    "        model=\"gpt-4o-mini\",\n",
    "        messages=[\n",
    "            {\"role\": \"system\", \"content\": prompt1},\n",
    "            {\"role\": \"user\", \"content\": prompt2},\n",
    "        ],\n",
    "        response_format=OutputFormat,\n",
    "    )\n",
    "    return completion.choices[0].message.parsed\n"
   ]
  },
  {
   "cell_type": "code",
   "execution_count": 23,
   "metadata": {},
   "outputs": [
    {
     "data": {
      "text/plain": [
       "title    My epic journey becoming the fastest person to...\n",
       "tag          sports, motivation, personal growth, humanity\n",
       "Name: 1, dtype: object"
      ]
     },
     "execution_count": 23,
     "metadata": {},
     "output_type": "execute_result"
    }
   ],
   "source": [
    "df.iloc[1,:]"
   ]
  },
  {
   "cell_type": "code",
   "execution_count": 25,
   "metadata": {},
   "outputs": [
    {
     "data": {
      "text/plain": [
       "OutputFormat(best_tag='motivation', sentiment='Positive')"
      ]
     },
     "execution_count": 25,
     "metadata": {},
     "output_type": "execute_result"
    }
   ],
   "source": [
    "response = request(df,1)\n",
    "response"
   ]
  },
  {
   "cell_type": "code",
   "execution_count": 18,
   "metadata": {},
   "outputs": [
    {
     "data": {
      "text/plain": [
       "'education'"
      ]
     },
     "execution_count": 18,
     "metadata": {},
     "output_type": "execute_result"
    }
   ],
   "source": [
    "response.best_tag"
   ]
  },
  {
   "cell_type": "code",
   "execution_count": 19,
   "metadata": {},
   "outputs": [
    {
     "data": {
      "text/plain": [
       "6412"
      ]
     },
     "execution_count": 19,
     "metadata": {},
     "output_type": "execute_result"
    }
   ],
   "source": [
    "len(df)"
   ]
  },
  {
   "cell_type": "code",
   "execution_count": 28,
   "metadata": {},
   "outputs": [
    {
     "name": "stdout",
     "output_type": "stream",
     "text": [
      "title                          How do gas masks actually work?\n",
      "tag          environment, technology, design, education, na...\n",
      "best_tag                                                  None\n",
      "sentiment                                                 None\n",
      "Name: 0, dtype: object\n",
      "best_tag='education' sentiment='Neutral'\n",
      "--------------------\n",
      "title        My epic journey becoming the fastest person to...\n",
      "tag              sports, motivation, personal growth, humanity\n",
      "best_tag                                                  None\n",
      "sentiment                                                 None\n",
      "Name: 1, dtype: object\n",
      "best_tag='motivation' sentiment='Positive'\n",
      "--------------------\n",
      "title        How AI is unlocking the secrets of nature and ...\n",
      "tag          science, technology, innovation, future, AI, h...\n",
      "best_tag                                                  None\n",
      "sentiment                                                 None\n",
      "Name: 2, dtype: object\n",
      "best_tag='science' sentiment='Positive'\n",
      "--------------------\n",
      "title        An updated action plan for solving the climate...\n",
      "tag          climate change, environment, sustainability, s...\n",
      "best_tag                                                  None\n",
      "sentiment                                                 None\n",
      "Name: 3, dtype: object\n",
      "best_tag='climate change' sentiment='Positive'\n",
      "--------------------\n",
      "title                The secret ingredient of business success\n",
      "tag          business, social change, community, leadership...\n",
      "best_tag                                                  None\n",
      "sentiment                                                 None\n",
      "Name: 4, dtype: object\n",
      "best_tag='business' sentiment='Positive'\n",
      "--------------------\n",
      "title        The rise and fall of the Maya Empire’s most po...\n",
      "tag          culture, education, history, ancient world, TE...\n",
      "best_tag                                                  None\n",
      "sentiment                                                 None\n",
      "Name: 5, dtype: object\n",
      "best_tag='history' sentiment='Neutral'\n",
      "--------------------\n",
      "title                                    How to live with fire\n",
      "tag          environment, humanity, trees, indigenous peopl...\n",
      "best_tag                                                  None\n",
      "sentiment                                                 None\n",
      "Name: 6, dtype: object\n",
      "best_tag='environment' sentiment='Neutral'\n",
      "--------------------\n",
      "title           The weird and wonderful art of Niceaunties\n",
      "tag          technology, creativity, art, AI, family, tech\n",
      "best_tag                                              None\n",
      "sentiment                                             None\n",
      "Name: 7, dtype: object\n",
      "best_tag='creativity' sentiment='Positive'\n",
      "--------------------\n",
      "title                       Does math have a major flaw?\n",
      "tag          education, history, math, TED-Ed, animation\n",
      "best_tag                                            None\n",
      "sentiment                                           None\n",
      "Name: 8, dtype: object\n",
      "best_tag='math' sentiment='Negative'\n",
      "--------------------\n",
      "title                       The art of persuasive storytelling\n",
      "tag          business, marketing, storytelling, communicati...\n",
      "best_tag                                                  None\n",
      "sentiment                                                 None\n",
      "Name: 9, dtype: object\n",
      "best_tag='storytelling' sentiment='Neutral'\n",
      "--------------------\n"
     ]
    }
   ],
   "source": [
    "df['best_tag'] = None\n",
    "df['sentiment'] = None\n",
    "for i in range(0,10):\n",
    "    response = request(df,i)\n",
    "    print(df.iloc[i,:])\n",
    "    print(response)\n",
    "    print(\"--------------------\")\n",
    "    df.loc[i, 'best_tag'] = response.best_tag\n",
    "    df.loc[i, 'sentiment'] = response.sentiment"
   ]
  },
  {
   "cell_type": "code",
   "execution_count": 35,
   "metadata": {},
   "outputs": [
    {
     "name": "stderr",
     "output_type": "stream",
     "text": [
      "100%|██████████| 5411/5411 [1:01:22<00:00,  1.47it/s]\n"
     ]
    }
   ],
   "source": [
    "from tqdm import tqdm\n",
    "for i in tqdm(range(1001,len(df))):\n",
    "    response = request(df,i)\n",
    "    df.loc[i, 'best_tag'] = response.best_tag\n",
    "    df.loc[i, 'sentiment'] = response.sentiment"
   ]
  },
  {
   "cell_type": "code",
   "execution_count": 36,
   "metadata": {},
   "outputs": [
    {
     "data": {
      "text/html": [
       "<div>\n",
       "<style scoped>\n",
       "    .dataframe tbody tr th:only-of-type {\n",
       "        vertical-align: middle;\n",
       "    }\n",
       "\n",
       "    .dataframe tbody tr th {\n",
       "        vertical-align: top;\n",
       "    }\n",
       "\n",
       "    .dataframe thead th {\n",
       "        text-align: right;\n",
       "    }\n",
       "</style>\n",
       "<table border=\"1\" class=\"dataframe\">\n",
       "  <thead>\n",
       "    <tr style=\"text-align: right;\">\n",
       "      <th></th>\n",
       "      <th>title</th>\n",
       "      <th>tag</th>\n",
       "      <th>best_tag</th>\n",
       "      <th>sentiment</th>\n",
       "    </tr>\n",
       "  </thead>\n",
       "  <tbody>\n",
       "    <tr>\n",
       "      <th>0</th>\n",
       "      <td>How do gas masks actually work?</td>\n",
       "      <td>environment, technology, design, education, na...</td>\n",
       "      <td>education</td>\n",
       "      <td>Neutral</td>\n",
       "    </tr>\n",
       "    <tr>\n",
       "      <th>1</th>\n",
       "      <td>My epic journey becoming the fastest person to...</td>\n",
       "      <td>sports, motivation, personal growth, humanity</td>\n",
       "      <td>personal growth</td>\n",
       "      <td>Positive</td>\n",
       "    </tr>\n",
       "    <tr>\n",
       "      <th>2</th>\n",
       "      <td>How AI is unlocking the secrets of nature and ...</td>\n",
       "      <td>science, technology, innovation, future, AI, h...</td>\n",
       "      <td>science</td>\n",
       "      <td>Positive</td>\n",
       "    </tr>\n",
       "    <tr>\n",
       "      <th>3</th>\n",
       "      <td>An updated action plan for solving the climate...</td>\n",
       "      <td>climate change, environment, sustainability, s...</td>\n",
       "      <td>climate change</td>\n",
       "      <td>Positive</td>\n",
       "    </tr>\n",
       "    <tr>\n",
       "      <th>4</th>\n",
       "      <td>The secret ingredient of business success</td>\n",
       "      <td>business, social change, community, leadership...</td>\n",
       "      <td>business</td>\n",
       "      <td>Positive</td>\n",
       "    </tr>\n",
       "    <tr>\n",
       "      <th>...</th>\n",
       "      <td>...</td>\n",
       "      <td>...</td>\n",
       "      <td>...</td>\n",
       "      <td>...</td>\n",
       "    </tr>\n",
       "    <tr>\n",
       "      <th>6407</th>\n",
       "      <td>The best stats you've ever seen</td>\n",
       "      <td>global issues, economics, health, Africa, stat...</td>\n",
       "      <td>statistics</td>\n",
       "      <td>Positive</td>\n",
       "    </tr>\n",
       "    <tr>\n",
       "      <th>6408</th>\n",
       "      <td>Do schools kill creativity?</td>\n",
       "      <td>culture, education, creativity, dance, parenti...</td>\n",
       "      <td>education</td>\n",
       "      <td>Negative</td>\n",
       "    </tr>\n",
       "    <tr>\n",
       "      <th>6409</th>\n",
       "      <td>Greening the ghetto</td>\n",
       "      <td>environment, politics, sustainability, busines...</td>\n",
       "      <td>sustainability</td>\n",
       "      <td>Positive</td>\n",
       "    </tr>\n",
       "    <tr>\n",
       "      <th>6410</th>\n",
       "      <td>Simplicity sells</td>\n",
       "      <td>technology, computers, entertainment, media, m...</td>\n",
       "      <td>UX design</td>\n",
       "      <td>Positive</td>\n",
       "    </tr>\n",
       "    <tr>\n",
       "      <th>6411</th>\n",
       "      <td>Averting the climate crisis</td>\n",
       "      <td>climate change, culture, environment, global i...</td>\n",
       "      <td>climate change</td>\n",
       "      <td>Positive</td>\n",
       "    </tr>\n",
       "  </tbody>\n",
       "</table>\n",
       "<p>6412 rows × 4 columns</p>\n",
       "</div>"
      ],
      "text/plain": [
       "                                                  title  \\\n",
       "0                       How do gas masks actually work?   \n",
       "1     My epic journey becoming the fastest person to...   \n",
       "2     How AI is unlocking the secrets of nature and ...   \n",
       "3     An updated action plan for solving the climate...   \n",
       "4             The secret ingredient of business success   \n",
       "...                                                 ...   \n",
       "6407                    The best stats you've ever seen   \n",
       "6408                        Do schools kill creativity?   \n",
       "6409                                Greening the ghetto   \n",
       "6410                                   Simplicity sells   \n",
       "6411                        Averting the climate crisis   \n",
       "\n",
       "                                                    tag         best_tag  \\\n",
       "0     environment, technology, design, education, na...        education   \n",
       "1         sports, motivation, personal growth, humanity  personal growth   \n",
       "2     science, technology, innovation, future, AI, h...          science   \n",
       "3     climate change, environment, sustainability, s...   climate change   \n",
       "4     business, social change, community, leadership...         business   \n",
       "...                                                 ...              ...   \n",
       "6407  global issues, economics, health, Africa, stat...       statistics   \n",
       "6408  culture, education, creativity, dance, parenti...        education   \n",
       "6409  environment, politics, sustainability, busines...   sustainability   \n",
       "6410  technology, computers, entertainment, media, m...        UX design   \n",
       "6411  climate change, culture, environment, global i...   climate change   \n",
       "\n",
       "     sentiment  \n",
       "0      Neutral  \n",
       "1     Positive  \n",
       "2     Positive  \n",
       "3     Positive  \n",
       "4     Positive  \n",
       "...        ...  \n",
       "6407  Positive  \n",
       "6408  Negative  \n",
       "6409  Positive  \n",
       "6410  Positive  \n",
       "6411  Positive  \n",
       "\n",
       "[6412 rows x 4 columns]"
      ]
     },
     "execution_count": 36,
     "metadata": {},
     "output_type": "execute_result"
    }
   ],
   "source": [
    "df"
   ]
  },
  {
   "cell_type": "code",
   "execution_count": 37,
   "metadata": {},
   "outputs": [],
   "source": [
    "df.to_csv('tags_export_gpt_checkpoint.csv', index=True)"
   ]
  }
 ],
 "metadata": {
  "kernelspec": {
   "display_name": ".tedx_venv",
   "language": "python",
   "name": ".tedx_venv"
  },
  "language_info": {
   "codemirror_mode": {
    "name": "ipython",
    "version": 3
   },
   "file_extension": ".py",
   "mimetype": "text/x-python",
   "name": "python",
   "nbconvert_exporter": "python",
   "pygments_lexer": "ipython3",
   "version": "3.12.7"
  }
 },
 "nbformat": 4,
 "nbformat_minor": 2
}
